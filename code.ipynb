{
 "cells": [
  {
   "cell_type": "code",
   "execution_count": 1,
   "id": "1d6c0ebb-45b2-4ccb-ab99-aaa551d9c646",
   "metadata": {},
   "outputs": [],
   "source": [
    "%%capture\n",
    "%pip install bs4\n",
    "%pip install flask\n",
    "%pip install pandas\n",
    "%pip install gensim\n",
    "%pip install nltk\n",
    "%pip install torch\n",
    "%pip install torchvision\n",
    "%pip install tensorflow\n",
    "%pip install requests-html\n",
    "%pip install langdetect"
   ]
  },
  {
   "cell_type": "code",
   "execution_count": 2,
   "id": "eaa6ccf2-5a32-4c20-aa69-3d975e0a0445",
   "metadata": {},
   "outputs": [],
   "source": [
    "import pandas as pd\n",
    "import torch\n",
    "from bs4 import BeautifulSoup\n",
    "import json\n",
    "import csv\n",
    "import random\n",
    "import pandas as pd\n",
    "import sklearn\n",
    "import nltk\n",
    "import torch\n",
    "import torchvision\n",
    "import tensorflow\n",
    "import re\n",
    "import string\n",
    "import numpy as np\n",
    "import matplotlib.pyplot as plt\n",
    "import time\n",
    "from requests_html import HTMLSession\n",
    "from sklearn.model_selection import train_test_split\n",
    "from sklearn.preprocessing import StandardScaler\n",
    "from sklearn.neural_network import MLPClassifier\n",
    "from sklearn.neighbors import KNeighborsClassifier\n",
    "from sklearn.svm import SVC\n",
    "from sklearn.gaussian_process import GaussianProcessClassifier\n",
    "from sklearn.gaussian_process.kernels import RBF\n",
    "from sklearn.tree import DecisionTreeClassifier\n",
    "from sklearn.ensemble import RandomForestClassifier, AdaBoostClassifier\n",
    "from sklearn.naive_bayes import GaussianNB\n",
    "from sklearn.discriminant_analysis import QuadraticDiscriminantAnalysis\n",
    "from sklearn.feature_extraction.text import CountVectorizer\n",
    "from gensim.models import Word2Vec\n",
    "from nltk.tokenize import word_tokenize\n",
    "from sklearn.linear_model import LogisticRegression\n",
    "from sklearn.metrics import accuracy_score"
   ]
  },
  {
   "cell_type": "code",
   "execution_count": 3,
   "id": "b8309120-6093-49d0-834f-11e34c1f14ae",
   "metadata": {},
   "outputs": [],
   "source": [
    "def getData(url):\n",
    "    r = s.get(url)\n",
    "    soup = BeautifulSoup(r.text, \"html.parser\")\n",
    "    return soup"
   ]
  },
  {
   "cell_type": "code",
   "execution_count": 4,
   "id": "690081dd-3161-41dd-a64e-2c4c938fa082",
   "metadata": {},
   "outputs": [],
   "source": [
    "def getArticle(soup):\n",
    "    url_list = []\n",
    "    for i in range(30):\n",
    "        article = soup.find_all('div', {'class': 'm-statement__quote'})[i]\n",
    "        url = 'http://www.politifact.com' + str(article.find('a')['href'])\n",
    "        url_list.append(url)\n",
    "    return url_list"
   ]
  },
  {
   "cell_type": "code",
   "execution_count": 5,
   "id": "ade95995-6ca3-4663-98b9-241bea0049cb",
   "metadata": {},
   "outputs": [],
   "source": [
    "def getArticleGen(soup):\n",
    "    url_list = []\n",
    "    for i in range(20):\n",
    "        article = soup.find_all('h3', {'class': 'm-teaser__title'})[i]\n",
    "        url = 'http://www.politifact.com' + str(article.find('a')['href'])\n",
    "        url_list.append(url)\n",
    "    return url_list"
   ]
  },
  {
   "cell_type": "code",
   "execution_count": 6,
   "id": "71831af1-541d-4ddb-b395-1465fd4a4b87",
   "metadata": {},
   "outputs": [],
   "source": [
    "#text preprocess for NLP\n",
    "def preprocess_text(text):\n",
    "    text = text.lower()\n",
    "    text = re.sub(f\"[{re.escape(string.punctuation)}]\", \"\", text)\n",
    "    return text"
   ]
  },
  {
   "cell_type": "code",
   "execution_count": 7,
   "id": "7e028659-1098-4aef-acdf-fefa7a736933",
   "metadata": {},
   "outputs": [],
   "source": [
    "#re-labeling data for multi-classification predictive model\n",
    "def predict_label(confidence):\n",
    "    if confidence < 0.166:\n",
    "        return \"pants-fire\"\n",
    "    elif confidence < 0.33:\n",
    "        return \"false\"\n",
    "    elif confidence < 0.5:\n",
    "        return \"barely-true\"\n",
    "    elif confidence < 0.666:\n",
    "        return \"half-true\"\n",
    "    elif confidence < 0.833:\n",
    "        return \"mostly-true\" \n",
    "    else:\n",
    "        return \"true\""
   ]
  }
 ],
 "metadata": {
  "kernelspec": {
   "display_name": "Python 3 (ipykernel)",
   "language": "python",
   "name": "python3"
  },
  "language_info": {
   "codemirror_mode": {
    "name": "ipython",
    "version": 3
   },
   "file_extension": ".py",
   "mimetype": "text/x-python",
   "name": "python",
   "nbconvert_exporter": "python",
   "pygments_lexer": "ipython3",
   "version": "3.11.3"
  }
 },
 "nbformat": 4,
 "nbformat_minor": 5
}
